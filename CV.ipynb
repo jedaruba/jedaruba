{
  "cells": [
    {
      "cell_type": "raw",
      "metadata": {},
      "source": [
        "---\n",
        "\n",
        "\n",
        "--- layout: \n",
        "page title: Curriculum vitae \n",
        "excerpt: My current CV \n",
        "execute:  \n",
        "freeze: true  \n",
        "engine: knitr \n",
        "resources:   \n",
        "  - \"CV.pdf\" \n",
        "cv:   \n",
        "  pdf: \"CV.pdf\" \n",
        "---"
      ],
      "id": "4ec87b02"
    },
    {
      "cell_type": "markdown",
      "metadata": {},
      "source": [
        "```{css echo= FALSE}\n",
        ".embed-container {     \n",
        "    position: relative;     \n",
        "    padding-bottom: 129%;     \n",
        "    height: 0;     \n",
        "    overflow: hidden;     \n",
        "    max-width: 100%; \n",
        "} \n",
        ".embed-container iframe, \n",
        ".embed-container object, \n",
        ".embed-container embed {     \n",
        "    position: absolute;     \n",
        "    top: 0;     \n",
        "    left: 0;     \n",
        "    width: 100%;     \n",
        "    height: 100%; \n",
        "}\n",
        "```\n",
        "\n",
        "```{css}\n",
        "{​​​=html}​​​ <p class=\"text-center\">   <a class=\"btn btn-primary btn-lg cv-download\" href=\"`r rmarkdown::metadata$cv$pdf`\" target=\"_blank\">     <i class=\"fa-solid fa-file-arrow-down\"></i>&ensp;Download current CV   </a> </p> <div class=\"embed-container\">   <iframe src=\"`r rmarkdown::metadata$cv$pdf`#toolbar=0\" style=\"border: 0.5px;width: 100%;\"></iframe> </div> ```\n",
        "```"
      ],
      "id": "cdfebd6b"
    }
  ],
  "metadata": {
    "kernelspec": {
      "display_name": "Python 3",
      "language": "python",
      "name": "python3"
    }
  },
  "nbformat": 4,
  "nbformat_minor": 5
}